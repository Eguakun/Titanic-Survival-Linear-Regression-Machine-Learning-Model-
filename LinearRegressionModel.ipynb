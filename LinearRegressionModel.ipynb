{
  "nbformat": 4,
  "nbformat_minor": 0,
  "metadata": {
    "colab": {
      "name": "LinearRegressionModel.ipynb",
      "provenance": [],
      "authorship_tag": "ABX9TyMkwx+pTvwe+y11m/Mw7dT9"
    },
    "kernelspec": {
      "name": "python3",
      "display_name": "Python 3"
    },
    "language_info": {
      "name": "python"
    }
  },
  "cells": [
    {
      "cell_type": "code",
      "metadata": {
        "colab": {
          "base_uri": "https://localhost:8080/",
          "height": 412
        },
        "id": "Y5Mp1HyCWJl6",
        "outputId": "e4a5c6e9-65e6-4428-c3b2-8c6ad1e07dfb"
      },
      "source": [
        "# !pip install -q sklearn\n",
        "# %tensorflow_version 2.x\n",
        "\n",
        "from __future__ import absolute_import, division, print_function, unicode_literals \n",
        "\n",
        "import numpy as np \n",
        "import pandas as pd \n",
        "import matplotlib.pyplot as plt\n",
        "from IPython.display import clear_output \n",
        "from six.moves import urllib \n",
        "\n",
        "import tensorflow.compat.v2.feature_column as fc \n",
        "\n",
        "import tensorflow as tf \n",
        "\n",
        "\n",
        "dftrain = pd.read_csv('https://storage.googleapis.com/tf-datasets/titanic/train.csv')\n",
        "dfeval = pd.read_csv('https://storage.googleapis.com/tf-datasets/titanic/eval.csv')\n",
        "\n",
        "\n",
        "\n",
        "\n",
        "\n",
        "# Removing the dependent variable from test and training data and adding it to these variables. \n",
        "y_train = dftrain.pop('survived')\n",
        "y_eval = dfeval.pop('survived')\n",
        "\n",
        "\n",
        "\n",
        "\n",
        "\n",
        "\n",
        "\n",
        "# Data Visualizations \n",
        "# dftrain.age.hist(bins=20)\n",
        "\n",
        "# dftrain.sex.value_counts().plot(kind='barh')\n",
        "\n",
        "# dftrain['class'].value_counts().plot(kind='barh')\n",
        "\n",
        "# pd.concat([dftrain, y_train], axis=1).groupby('sex').survived.mean().plot(kind='barh').set_xlabel('% survive')\n",
        "\n",
        "\n",
        "\n",
        "\n",
        "\n",
        "\n",
        "\n",
        "#  Now we need to create our features list \n",
        "CATEGORICAL_COLUMNS = ['sex', 'n_siblings_spouses', 'parch', 'class', 'deck',\n",
        "                       'embark_town', 'alone']\n",
        "NUMERIC_COLUMNS = ['age', 'fare']\n",
        "\n",
        "feature_columns = []\n",
        "for feature_name in CATEGORICAL_COLUMNS:\n",
        "  vocabulary = dftrain[feature_name].unique()\n",
        "  feature_columns.append(tf.feature_column.categorical_column_with_vocabulary_list(feature_name, vocabulary))\n",
        "\n",
        "for feature_name in NUMERIC_COLUMNS:\n",
        "  feature_columns.append(tf.feature_column.numeric_column(feature_name, dtype=tf.float32))\n",
        "\n",
        "\n",
        "\n",
        "\n",
        "\n",
        "\n",
        "# define the input function - 10 epochs, model data will be streamed into it in small batches of 32. \n",
        "\n",
        "def make_input_fn(data_df, label_df, num_epochs=10, shuffle=True, batch_size=32):\n",
        "  def input_function(): # inner function, this will be returned\n",
        "    ds = tf.data.Dataset.from_tensor_slices((dict(data_df), label_df)) # create tf.data.Datset object with data and its label \n",
        "    if shuffle:\n",
        "      ds = ds.shuffle(1000) #randomize order of data \n",
        "    ds = ds.batch(batch_size).repeat(num_epochs) # split dataset into batches of 32 and repear process 10 times since we have 10 epochs \n",
        "    return  ds #reutn a batch of the dataset \n",
        "  return input_function #return a function object for use \n",
        "\n",
        "train_input_fn = make_input_fn(dftrain, y_train) # here we will call the input function that was returned to us to get a dataset object that we can feed to the model\n",
        "eval_input_fn = make_input_fn(dfeval, y_eval, num_epochs=1, shuffle=False)\n",
        "\n",
        "\n",
        "\n",
        "\n",
        "\n",
        "\n",
        "# Creating the model \n",
        "\n",
        "# I am going to use a linear estimator to utilize the linear regression algorithm \n",
        "linear_est = tf.estimator.LinearClassifier(feature_columns=feature_columns)\n",
        "# I pass in the feature columns we created above. \n",
        "\n",
        "\n",
        "\n",
        "\n",
        "\n",
        "\n",
        "\n",
        "# Training the model \n",
        "linear_est.train(train_input_fn) # train\n",
        "result = linear_est.evaluate(eval_input_fn)\n",
        "\n",
        "\n",
        "clear_output()\n",
        "print(result['accuracy'])\n",
        "\n",
        "\n",
        "pred_dicts = list(linear_est.predict(eval_input_fn))\n",
        "probs = pd.Series([pred['probabilities'][1] for pred in pred_dicts])\n",
        "\n",
        "#Results visualizations \n",
        "\n",
        "dftrain.age.hist(bins=20)\n",
        "dftrain.sex.value_counts().plot(kind='barh')\n",
        "dftrain['class'].value_counts().plot(kind='barh')\n",
        "pd.concat([dftrain, y_train], axis=1).groupby('sex').survived.mean().plot(kind='barh').set_xlabel('% survive')\n",
        "\n",
        "\n",
        "# Females had a much higher chance of survival \n",
        "\n"
      ],
      "execution_count": 3,
      "outputs": [
        {
          "output_type": "stream",
          "name": "stdout",
          "text": [
            "0.75\n",
            "INFO:tensorflow:Calling model_fn.\n",
            "INFO:tensorflow:Done calling model_fn.\n",
            "INFO:tensorflow:Graph was finalized.\n",
            "INFO:tensorflow:Restoring parameters from /tmp/tmpuqfa3o4b/model.ckpt-200\n",
            "INFO:tensorflow:Running local_init_op.\n",
            "INFO:tensorflow:Done running local_init_op.\n"
          ]
        },
        {
          "output_type": "execute_result",
          "data": {
            "text/plain": [
              "Text(0.5, 0, '% survive')"
            ]
          },
          "metadata": {},
          "execution_count": 3
        },
        {
          "output_type": "display_data",
          "data": {
            "image/png": "[encoded data removed]",
            "text/plain": [
              "<Figure size 432x288 with 1 Axes>"
            ]
          },
          "metadata": {
            "needs_background": "light"
          }
        }
      ]
    }
  ]
}